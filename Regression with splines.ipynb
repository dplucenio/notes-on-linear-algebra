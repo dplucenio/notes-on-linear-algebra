{
 "cells": [
  {
   "cell_type": "markdown",
   "metadata": {},
   "source": [
    "# Regression with splines"
   ]
  },
  {
   "cell_type": "code",
   "execution_count": 1,
   "metadata": {},
   "outputs": [],
   "source": [
    "from math import factorial\n",
    "import numpy as np\n",
    "import matplotlib.pyplot as plt\n",
    "from numba import jit, f8, i8"
   ]
  },
  {
   "cell_type": "markdown",
   "metadata": {},
   "source": [
    "## Bézier curves (Bernstein polynomials)"
   ]
  },
  {
   "cell_type": "code",
   "execution_count": 2,
   "metadata": {},
   "outputs": [],
   "source": [
    "@jit(f8[:,:](f8[:],i8))\n",
    "def create_bernstein_basis(x, n):\n",
    "    m = x.shape[0]\n",
    "    B = np.zeros((m, n+1))\n",
    "    for i in range(n+1):\n",
    "        B[:,i] = factorial(n) / (factorial(n-i)*factorial(i)) * ((1 - x)**(n-i)) * x**i\n",
    "    return B"
   ]
  },
  {
   "cell_type": "code",
   "execution_count": 3,
   "metadata": {},
   "outputs": [
    {
     "data": {
      "application/vnd.jupyter.widget-view+json": {
       "model_id": "0f8b9931e0d1462b8a167b2259a7fec4",
       "version_major": 2,
       "version_minor": 0
      },
      "text/plain": [
       "interactive(children=(IntSlider(value=10, description='n', max=20, min=1), Output()), _dom_classes=('widget-in…"
      ]
     },
     "metadata": {},
     "output_type": "display_data"
    },
    {
     "data": {
      "text/plain": [
       "<function __main__.plot_bernstein_polynomials(n)>"
      ]
     },
     "execution_count": 3,
     "metadata": {},
     "output_type": "execute_result"
    }
   ],
   "source": [
    "m = 50\n",
    "x = np.linspace(0, 1 ,m)\n",
    "\n",
    "from ipywidgets import interact\n",
    "def plot_bernstein_polynomials(n):\n",
    "    B = create_bernstein_basis(x, n)\n",
    "    for i in range(n+1):\n",
    "        plt.plot(x, B[:,i], '-', color='steelblue')\n",
    "    plt.plot()\n",
    "interact(plot_bernstein_polynomials,n=(1,20,1))"
   ]
  }
 ],
 "metadata": {
  "kernelspec": {
   "display_name": "Python 3",
   "language": "python",
   "name": "python3"
  },
  "language_info": {
   "codemirror_mode": {
    "name": "ipython",
    "version": 3
   },
   "file_extension": ".py",
   "mimetype": "text/x-python",
   "name": "python",
   "nbconvert_exporter": "python",
   "pygments_lexer": "ipython3",
   "version": "3.6.5"
  }
 },
 "nbformat": 4,
 "nbformat_minor": 2
}
