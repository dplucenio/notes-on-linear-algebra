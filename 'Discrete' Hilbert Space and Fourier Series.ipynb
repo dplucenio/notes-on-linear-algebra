{
 "cells": [
  {
   "cell_type": "markdown",
   "metadata": {},
   "source": [
    "# 'Discrete' Hilbert Space and Fourier Series"
   ]
  },
  {
   "cell_type": "markdown",
   "metadata": {},
   "source": [
    "This notebook solves a least square problem to find the n coefficients of a fourier series that best describes a function discretized in m points. This problem can be interpreted as finding the projection of an R^m vector (the discrete function) onto an R^n subspace, spanned by the n discrete fourier basis funtions. This is a form of performing 'space reduction' where a m-dimension (say 5000) function could be represented by its projection onto a subspace with a smaller dimension n (say 100)."
   ]
  },
  {
   "cell_type": "code",
   "execution_count": 1,
   "metadata": {
    "collapsed": true
   },
   "outputs": [],
   "source": [
    "import numpy as np\n",
    "import matplotlib.pyplot as plt\n",
    "%matplotlib inline"
   ]
  },
  {
   "cell_type": "code",
   "execution_count": 2,
   "metadata": {
    "collapsed": true
   },
   "outputs": [],
   "source": [
    "discreteComponents=5000 # The dimension of the original function\n",
    "m=discreteComponents"
   ]
  },
  {
   "cell_type": "code",
   "execution_count": 3,
   "metadata": {},
   "outputs": [
    {
     "data": {
      "text/plain": [
       "[<matplotlib.lines.Line2D at 0x7ff5f9239a90>]"
      ]
     },
     "execution_count": 3,
     "metadata": {},
     "output_type": "execute_result"
    },
    {
     "data": {
      "image/png": "[encoded data removed]",
      "text/plain": [
       "<matplotlib.figure.Figure at 0x7ff5fb57a908>"
      ]
     },
     "metadata": {},
     "output_type": "display_data"
    }
   ],
   "source": [
    "# The original function\n",
    "xx = np.linspace(0, 1, m)\n",
    "yy = np.zeros(m); yy[(xx>=1/3 )]=1; yy[(xx>2/3)]=0\n",
    "plt.plot(xx,yy)"
   ]
  },
  {
   "cell_type": "code",
   "execution_count": 4,
   "metadata": {
    "collapsed": true
   },
   "outputs": [],
   "source": [
    "dimension = 100 # Number of Fourier basis discrete funtions\n",
    "n = dimension"
   ]
  },
  {
   "cell_type": "code",
   "execution_count": 5,
   "metadata": {
    "collapsed": true
   },
   "outputs": [],
   "source": [
    "# Build the R^n Fourier basis discrete functions\n",
    "x = np.linspace(-np.pi,np.pi,m)\n",
    "basisFunctions = [np.ones(m)]\n",
    "mult=1\n",
    "for i in range(1,n):\n",
    "    if i%2==0:\n",
    "        basisFunctions.append(np.sin(mult*x))\n",
    "        mult+=1\n",
    "    else:\n",
    "        basisFunctions.append(np.cos(mult*x))\n",
    "A = np.column_stack(basisFunctions)"
   ]
  },
  {
   "cell_type": "code",
   "execution_count": 6,
   "metadata": {},
   "outputs": [
    {
     "data": {
      "text/plain": [
       "3.5886491553542832e-14"
      ]
     },
     "execution_count": 6,
     "metadata": {},
     "output_type": "execute_result"
    }
   ],
   "source": [
    "# The Fourier functions are known to form good bases, for being orthogonal to\n",
    "# each other. The inner product approaches 0 as m tends to infinity\n",
    "np.dot(basisFunctions[1], basisFunctions[2])"
   ]
  },
  {
   "cell_type": "code",
   "execution_count": 7,
   "metadata": {},
   "outputs": [],
   "source": [
    "# Solves the least square problem to find the projection of the original function onto the R^n\n",
    "# space spanned by the n Fourier basis discrete functions\n",
    "x_h = np.linalg.solve(np.dot(A.T,A),np.dot(A.T,yy))\n",
    "# Gets the coordinates in respect to the standard R^m basis, which will be our 'aproximated' os 'space\n",
    "# reduced' function\n",
    "p = np.dot(A,x_h)"
   ]
  },
  {
   "cell_type": "code",
   "execution_count": 8,
   "metadata": {},
   "outputs": [
    {
     "data": {
      "text/plain": [
       "[<matplotlib.lines.Line2D at 0x7ff5f91fcc18>]"
      ]
     },
     "execution_count": 8,
     "metadata": {},
     "output_type": "execute_result"
    },
    {
     "data": {
      "image/png": "[encoded data removed]",
      "text/plain": [
       "<matplotlib.figure.Figure at 0x7ff5f91fc8d0>"
      ]
     },
     "metadata": {},
     "output_type": "display_data"
    }
   ],
   "source": [
    "# Compares the original R^m discrete function and the R^n projection on the discrete Fourier basis\n",
    "plt.plot(xx,yy)\n",
    "plt.plot(xx,p)"
   ]
  }
 ],
 "metadata": {
  "kernelspec": {
   "display_name": "Python 3",
   "language": "python",
   "name": "python3"
  },
  "language_info": {
   "codemirror_mode": {
    "name": "ipython",
    "version": 3
   },
   "file_extension": ".py",
   "mimetype": "text/x-python",
   "name": "python",
   "nbconvert_exporter": "python",
   "pygments_lexer": "ipython3",
   "version": "3.6.1"
  },
  "latex_envs": {
   "LaTeX_envs_menu_present": true,
   "autocomplete": true,
   "bibliofile": "biblio.bib",
   "cite_by": "apalike",
   "current_citInitial": 1,
   "eqLabelWithNumbers": true,
   "eqNumInitial": 1,
   "hotkeys": {
    "equation": "Ctrl-E",
    "itemize": "Ctrl-I"
   },
   "labels_anchors": false,
   "latex_user_defs": false,
   "report_style_numbering": true,
   "user_envs_cfg": false
  }
 },
 "nbformat": 4,
 "nbformat_minor": 2
}
