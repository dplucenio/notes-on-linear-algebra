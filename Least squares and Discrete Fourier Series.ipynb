{
 "cells": [
  {
   "cell_type": "markdown",
   "metadata": {},
   "source": [
    "# Least squares and Discrete Fourier Series"
   ]
  },
  {
   "cell_type": "markdown",
   "metadata": {},
   "source": [
    "This notebook solves a least square problem to find the n coefficients of a fourier series that best describes a function discretized in m points. This problem can be interpreted as finding the projection of an R^m vector (the discrete function) onto an R^n subspace, spanned by the n discrete fourier basis funtions. This is a form of performing 'space reduction' where a m-dimension (say 5000) function could be represented by its projection onto a subspace with a smaller dimension n (say 100)."
   ]
  },
  {
   "cell_type": "code",
   "execution_count": 1,
   "metadata": {
    "collapsed": true
   },
   "outputs": [],
   "source": [
    "import numpy as np\n",
    "import matplotlib.pyplot as plt\n",
    "%matplotlib inline"
   ]
  },
  {
   "cell_type": "code",
   "execution_count": 2,
   "metadata": {
    "collapsed": true
   },
   "outputs": [],
   "source": [
    "discreteComponents=10000 # The dimension of the original function\n",
    "m=discreteComponents"
   ]
  },
  {
   "cell_type": "code",
   "execution_count": 3,
   "metadata": {
    "collapsed": false
   },
   "outputs": [
    {
     "data": {
      "text/plain": [
       "[<matplotlib.lines.Line2D at 0x7fe98f2dc710>]"
      ]
     },
     "execution_count": 3,
     "metadata": {},
     "output_type": "execute_result"
    },
    {
     "data": {
      "image/png": "[encoded data removed]",
      "text/plain": [
       "<matplotlib.figure.Figure at 0x7fe99135cf28>"
      ]
     },
     "metadata": {},
     "output_type": "display_data"
    }
   ],
   "source": [
    "# The original function\n",
    "xx = np.linspace(0, 1, m)\n",
    "yy = np.zeros(m); yy[(xx>=1/3 )]=1; yy[(xx>2/3)]=0\n",
    "plt.plot(xx,yy)"
   ]
  },
  {
   "cell_type": "code",
   "execution_count": 4,
   "metadata": {
    "collapsed": true
   },
   "outputs": [],
   "source": [
    "dimension = 500 # Number of Fourier basis discrete funtions\n",
    "n = dimension"
   ]
  },
  {
   "cell_type": "code",
   "execution_count": 5,
   "metadata": {
    "collapsed": true
   },
   "outputs": [],
   "source": [
    "# Build the R^n Fourier basis discrete functions\n",
    "def computeFourierBasis(m, n):\n",
    "    x = np.linspace(-np.pi,np.pi,m)\n",
    "    basisFunctions = [np.ones(m)]\n",
    "    mult=1\n",
    "    for i in range(1,n):\n",
    "        if i%2==0:\n",
    "            basisFunctions.append(np.sin(mult*x))\n",
    "            mult+=1\n",
    "        else:\n",
    "            basisFunctions.append(np.cos(mult*x))\n",
    "    A = np.column_stack(basisFunctions)\n",
    "    return A"
   ]
  },
  {
   "cell_type": "code",
   "execution_count": 6,
   "metadata": {
    "collapsed": false
   },
   "outputs": [
    {
     "data": {
      "text/plain": [
       "8.4522016122190458e-14"
      ]
     },
     "execution_count": 6,
     "metadata": {},
     "output_type": "execute_result"
    }
   ],
   "source": [
    "# The Fourier functions are known to form good bases, for being orthogonal to\n",
    "# each other. The inner product approaches 0 as m tends to infinity\n",
    "fourierBases=computeFourierBasis(m,n)\n",
    "np.dot(fourierBases[:,1], fourierBases[:,2])"
   ]
  },
  {
   "cell_type": "code",
   "execution_count": 7,
   "metadata": {
    "collapsed": true
   },
   "outputs": [],
   "source": [
    "def projectOnFourierBasis(vec, n):\n",
    "    m = vec.shape[0]\n",
    "    A = computeFourierBasis(m,n)\n",
    "    # Solves the least square problem to find the projection of the original function onto the R^n\n",
    "    # space spanned by the n Fourier basis discrete functions\n",
    "    x_h = np.linalg.solve(np.dot(A.T,A),np.dot(A.T,yy))\n",
    "    # Gets the coordinates in respect to the standard R^m basis, which will be our 'aproximated' or\n",
    "    # 'space reduced' function\n",
    "    p = np.dot(A,x_h)\n",
    "    return p"
   ]
  },
  {
   "cell_type": "code",
   "execution_count": 8,
   "metadata": {
    "collapsed": false
   },
   "outputs": [
    {
     "data": {
      "image/png": "[encoded data removed]",
      "text/plain": [
       "<matplotlib.figure.Figure at 0x7fe98c906320>"
      ]
     },
     "metadata": {},
     "output_type": "display_data"
    },
    {
     "name": "stdout",
     "output_type": "stream",
     "text": [
      "10.5779930492\n"
     ]
    }
   ],
   "source": [
    "# Compares the original R^m discrete function and the R^n projection on the discrete Fourier\n",
    "# basis\n",
    "from ipywidgets import interact\n",
    "def plotOriginalFunctionAndProjection(x):\n",
    "    pp = projectOnFourierBasis(yy,x)\n",
    "    fig, ax = plt.subplots()\n",
    "    plt.plot(xx,yy)\n",
    "    plt.plot(xx,pp)\n",
    "    ax.set_xlim([0.0,1.0])\n",
    "    ax.set_ylim([-0.2,1.2])\n",
    "    plt.show()\n",
    "    e = yy-pp\n",
    "    print(np.sqrt(np.dot(e,e)))\n",
    "interact(plotOriginalFunctionAndProjection,x=(2,300,2))"
   ]
  }
 ],
 "metadata": {
  "anaconda-cloud": {},
  "kernelspec": {
   "display_name": "Python [Root]",
   "language": "python",
   "name": "Python [Root]"
  },
  "language_info": {
   "codemirror_mode": {
    "name": "ipython",
    "version": 3
   },
   "file_extension": ".py",
   "mimetype": "text/x-python",
   "name": "python",
   "nbconvert_exporter": "python",
   "pygments_lexer": "ipython3",
   "version": "3.5.2"
  },
  "latex_envs": {
   "LaTeX_envs_menu_present": true,
   "autocomplete": true,
   "bibliofile": "biblio.bib",
   "cite_by": "apalike",
   "current_citInitial": 1,
   "eqLabelWithNumbers": true,
   "eqNumInitial": 1,
   "hotkeys": {
    "equation": "Ctrl-E",
    "itemize": "Ctrl-I"
   },
   "labels_anchors": false,
   "latex_user_defs": false,
   "report_style_numbering": true,
   "user_envs_cfg": false
  }
 },
 "nbformat": 4,
 "nbformat_minor": 2
}
