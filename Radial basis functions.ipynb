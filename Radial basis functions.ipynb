{
 "cells": [
  {
   "cell_type": "markdown",
   "metadata": {},
   "source": [
    "# Radial basis functions"
   ]
  },
  {
   "cell_type": "markdown",
   "metadata": {},
   "source": [
    "## Linear combination of general basis functions"
   ]
  },
  {
   "cell_type": "markdown",
   "metadata": {},
   "source": [
    "This notebook contains studies on radial basis functions interpolation, to be used as part of surrogate optimization. This optimization method uses a *surrogate* (also known as metamodel, or surface response model) model to appoximate a given function $f:R^d\\rightarrow R$."
   ]
  },
  {
   "cell_type": "markdown",
   "metadata": {},
   "source": [
    "Follows the basic idea of approximating the function as a linear conbination of basis functions of $\\vec{x}$:"
   ]
  },
  {
   "cell_type": "markdown",
   "metadata": {},
   "source": [
    "\\begin{equation}\n",
    "\\mathbf{h} = w_0\\mathbf{\\varphi_0}(\\mathbf{x}) + w_1\\mathbf{\\varphi_1}(\\mathbf{x})+\\dots+w_n\\mathbf{\\varphi_n}(\\mathbf{x})=\\sum_{i=1}^n w_i\\mathbf{\\varphi_i}(\\mathbf{x})\n",
    "\\end{equation}"
   ]
  },
  {
   "cell_type": "markdown",
   "metadata": {},
   "source": [
    "Written in matrix notation:"
   ]
  },
  {
   "cell_type": "markdown",
   "metadata": {},
   "source": [
    "\\begin{equation}\n",
    "    \\mathbf{h} =\n",
    "    \\left[\n",
    "    {\\begin{array}{cc}\n",
    "    \\mathbf{\\varphi_0}(\\mathbf{x}) & \\mathbf{\\varphi_1}(\\mathbf{x}) & \\dots & \\mathbf{\\varphi_n}(\\mathbf{x})\n",
    "    \\end{array} }\n",
    "    \\right]\\mathbf{w}\n",
    "\\end{equation}"
   ]
  },
  {
   "cell_type": "markdown",
   "metadata": {},
   "source": [
    "From this general form, derives linear, polynomial and other basis functions combinations.\n",
    "\n",
    ">Note that $\\mathbf{\\varphi_i}$ arefunctions of the **vector** $\\mathbf{x}$. For linear combination, normally each function $\\mathbf{\\varphi_i}$ is dependent of a single component of $\\mathbf{x}$, but in a general form it depends of all the componentes of $\\mathbf{x}$, as does radial basis functions."
   ]
  },
  {
   "cell_type": "markdown",
   "metadata": {},
   "source": [
    "## Radial basis functions"
   ]
  },
  {
   "cell_type": "markdown",
   "metadata": {
    "slideshow": {
     "slide_type": "subslide"
    }
   },
   "source": [
    "Radial basis functions interpolation uses a special set of functions, based on univariate (radial) functions and a set of observed data."
   ]
  },
  {
   "cell_type": "markdown",
   "metadata": {},
   "source": [
    "Given a set of $m$ points in $R^d$, let's refer to them as $\\left\\{\\mathbf{\\hat{x}}_1,\\ldots, \\mathbf{\\hat{x}}_m \\right\\}$, where the function $f:R^d \\rightarrow R$ evaluation is known. The function is approximated by the linear combination of $m$ basis functions $\\mathbf{\\varphi_i(x)}$:"
   ]
  },
  {
   "cell_type": "markdown",
   "metadata": {},
   "source": [
    "\\begin{equation}\n",
    "    \\mathbf{h} =\n",
    "    \\left[\n",
    "    {\\begin{array}{cc}\n",
    "    \\mathbf{\\varphi_0}(\\mathbf{x}) & \\mathbf{\\varphi_1}(\\mathbf{x}) & \\dots & \\mathbf{\\varphi_m}(\\mathbf{x})\n",
    "    \\end{array} }\n",
    "    \\right]\\mathbf{w}\n",
    "\\end{equation}"
   ]
  },
  {
   "cell_type": "markdown",
   "metadata": {},
   "source": [
    "This functions are defined as:"
   ]
  },
  {
   "cell_type": "markdown",
   "metadata": {},
   "source": [
    "$$\\varphi_i\\left(\\mathbf{x}\\right)=\\gamma( \\Vert \\mathbf{x}-\\mathbf{\\hat{x}_i} \\Vert)$$"
   ]
  },
  {
   "cell_type": "markdown",
   "metadata": {},
   "source": [
    "Where $\\Vert \\mathbf{v} \\Vert$, denotes the norm of the vector $\\mathbf{v}$ and $\\gamma$ is an univariate, normally continuous function called a **radial basis function**."
   ]
  }
 ],
 "metadata": {
  "kernelspec": {
   "display_name": "Python 3",
   "language": "python",
   "name": "python3"
  },
  "language_info": {
   "codemirror_mode": {
    "name": "ipython",
    "version": 3
   },
   "file_extension": ".py",
   "mimetype": "text/x-python",
   "name": "python",
   "nbconvert_exporter": "python",
   "pygments_lexer": "ipython3",
   "version": "3.6.5"
  }
 },
 "nbformat": 4,
 "nbformat_minor": 2
}
